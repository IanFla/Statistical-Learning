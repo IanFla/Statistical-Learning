{
 "cells": [
  {
   "cell_type": "code",
   "execution_count": 1,
   "metadata": {},
   "outputs": [],
   "source": [
    "import numpy as np\n",
    "import matplotlib.pyplot as plt\n",
    "from sklearn.discriminant_analysis import LinearDiscriminantAnalysis as LDA\n",
    "from sklearn.discriminant_analysis import QuadraticDiscriminantAnalysis as QDA\n",
    "from sklearn.linear_model import LogisticRegression as LR\n",
    "\n",
    "import warnings\n",
    "warnings.filterwarnings(\"ignore\")"
   ]
  },
  {
   "cell_type": "code",
   "execution_count": 2,
   "metadata": {},
   "outputs": [
    {
     "name": "stdout",
     "output_type": "stream",
     "text": [
      "(7291, 256) (2007, 256)\n",
      "[1194 1005  731  658  652  556  664  645  542  644]\n",
      "[359 264 198 166 200 160 170 147 166 177]\n"
     ]
    }
   ],
   "source": [
    "def get_data(path):\n",
    "    data=np.loadtxt(path)\n",
    "    X=data[:, 1:]\n",
    "    y=data[:, 0]\n",
    "    return X, y\n",
    "\n",
    "X_train, y_train=get_data('./data/zip.train')\n",
    "X_test, y_test=get_data('./data/zip.test')\n",
    "print(X_train.shape, X_test.shape)\n",
    "print(np.unique(y_train, return_counts=True)[1])\n",
    "print(np.unique(y_test, return_counts=True)[1])"
   ]
  },
  {
   "cell_type": "code",
   "execution_count": 3,
   "metadata": {},
   "outputs": [
    {
     "name": "stdout",
     "output_type": "stream",
     "text": [
      "(0.9380057605266767, 0.885401096163428)\n",
      "(0.920175558908243, 0.8156452416542103)\n",
      "(0.9938280071320806, 0.9108121574489287)\n"
     ]
    }
   ],
   "source": [
    "fit1 = LDA().fit(X_train, y_train)\n",
    "fit2 = QDA().fit(X_train, y_train)\n",
    "fit3 = LR(random_state=0).fit(X_train, y_train)\n",
    "result1 = fit1.score(X_train, y_train), fit1.score(X_test, y_test)\n",
    "result2 = fit2.score(X_train, y_train), fit2.score(X_test, y_test)\n",
    "result3 = fit3.score(X_train, y_train), fit3.score(X_test, y_test)\n",
    "\n",
    "print(result1)\n",
    "print(result2)\n",
    "print(result3)"
   ]
  },
  {
   "cell_type": "code",
   "execution_count": 16,
   "metadata": {},
   "outputs": [
    {
     "name": "stdout",
     "output_type": "stream",
     "text": [
      "\u001b[33mDEPRECATION: Configuring installation scheme with distutils config files is deprecated and will no longer work in the near future. If you are using a Homebrew or Linuxbrew Python, please see discussion at https://github.com/Homebrew/homebrew-core/issues/76621\u001b[0m\n",
      "Collecting pyDML\n",
      "  Using cached pyDML-0.1.0.tar.gz (54 kB)\n",
      "Requirement already satisfied: numpy in /usr/local/lib/python3.9/site-packages (from pyDML) (1.21.2)\n",
      "Requirement already satisfied: pandas in /usr/local/lib/python3.9/site-packages (from pyDML) (1.3.2)\n",
      "Requirement already satisfied: scikit-learn in /usr/local/lib/python3.9/site-packages (from pyDML) (0.24.2)\n",
      "Requirement already satisfied: matplotlib in /usr/local/lib/python3.9/site-packages (from pyDML) (3.4.3)\n",
      "Requirement already satisfied: Cython in /usr/local/lib/python3.9/site-packages (from pyDML) (0.29.24)\n",
      "Requirement already satisfied: scipy in /usr/local/lib/python3.9/site-packages (from pyDML) (1.7.1)\n",
      "Requirement already satisfied: seaborn in /usr/local/lib/python3.9/site-packages (from pyDML) (0.11.2)\n",
      "Requirement already satisfied: python-dateutil>=2.7 in /usr/local/lib/python3.9/site-packages (from matplotlib->pyDML) (2.8.1)\n",
      "Requirement already satisfied: pillow>=6.2.0 in /usr/local/lib/python3.9/site-packages (from matplotlib->pyDML) (8.0.1)\n",
      "Requirement already satisfied: kiwisolver>=1.0.1 in /usr/local/lib/python3.9/site-packages (from matplotlib->pyDML) (1.3.1)\n",
      "Requirement already satisfied: cycler>=0.10 in /usr/local/lib/python3.9/site-packages (from matplotlib->pyDML) (0.10.0)\n",
      "Requirement already satisfied: pyparsing>=2.2.1 in /usr/local/lib/python3.9/site-packages (from matplotlib->pyDML) (2.4.7)\n",
      "Requirement already satisfied: six in /usr/local/lib/python3.9/site-packages (from cycler>=0.10->matplotlib->pyDML) (1.15.0)\n",
      "Requirement already satisfied: pytz>=2017.3 in /usr/local/lib/python3.9/site-packages (from pandas->pyDML) (2021.1)\n",
      "Requirement already satisfied: threadpoolctl>=2.0.0 in /usr/local/lib/python3.9/site-packages (from scikit-learn->pyDML) (2.1.0)\n",
      "Requirement already satisfied: joblib>=0.11 in /usr/local/lib/python3.9/site-packages (from scikit-learn->pyDML) (1.0.1)\n",
      "Building wheels for collected packages: pyDML\n",
      "  Building wheel for pyDML (setup.py) ... \u001b[?25lerror\n",
      "\u001b[31m  ERROR: Command errored out with exit status 1:\n",
      "   command: /usr/local/opt/python@3.9/bin/python3.9 -u -c 'import io, os, sys, setuptools, tokenize; sys.argv[0] = '\"'\"'/private/var/folders/bw/w04m0yj13zvbtnb4m5nw1grh0000gn/T/pip-install-j9eseonc/pydml_3d71df2771924c109fd6b71d45b9f454/setup.py'\"'\"'; __file__='\"'\"'/private/var/folders/bw/w04m0yj13zvbtnb4m5nw1grh0000gn/T/pip-install-j9eseonc/pydml_3d71df2771924c109fd6b71d45b9f454/setup.py'\"'\"';f = getattr(tokenize, '\"'\"'open'\"'\"', open)(__file__) if os.path.exists(__file__) else io.StringIO('\"'\"'from setuptools import setup; setup()'\"'\"');code = f.read().replace('\"'\"'\\r\\n'\"'\"', '\"'\"'\\n'\"'\"');f.close();exec(compile(code, __file__, '\"'\"'exec'\"'\"'))' bdist_wheel -d /private/var/folders/bw/w04m0yj13zvbtnb4m5nw1grh0000gn/T/pip-wheel-cfj5mvqi\n",
      "       cwd: /private/var/folders/bw/w04m0yj13zvbtnb4m5nw1grh0000gn/T/pip-install-j9eseonc/pydml_3d71df2771924c109fd6b71d45b9f454/\n",
      "  Complete output (60 lines):\n",
      "  Warning: passing language='c++' to cythonize() is deprecated. Instead, put \"# distutils: language=c++\" in your .pyx or .pxd file(s)\n",
      "  running bdist_wheel\n",
      "  running build\n",
      "  running build_py\n",
      "  creating build\n",
      "  creating build/lib.macosx-11-x86_64-3.9\n",
      "  creating build/lib.macosx-11-x86_64-3.9/dml\n",
      "  copying dml/dml_algorithm.py -> build/lib.macosx-11-x86_64-3.9/dml\n",
      "  copying dml/dml_plot.py -> build/lib.macosx-11-x86_64-3.9/dml\n",
      "  copying dml/multidml_knn.py -> build/lib.macosx-11-x86_64-3.9/dml\n",
      "  copying dml/__init__.py -> build/lib.macosx-11-x86_64-3.9/dml\n",
      "  copying dml/tune.py -> build/lib.macosx-11-x86_64-3.9/dml\n",
      "  copying dml/base.py -> build/lib.macosx-11-x86_64-3.9/dml\n",
      "  copying dml/knn.py -> build/lib.macosx-11-x86_64-3.9/dml\n",
      "  running build_ext\n",
      "  building 'dml.anmm' extension\n",
      "  creating build/temp.macosx-11-x86_64-3.9\n",
      "  creating build/temp.macosx-11-x86_64-3.9/dml\n",
      "  clang -Wno-unused-result -Wsign-compare -Wunreachable-code -fno-common -dynamic -DNDEBUG -g -fwrapv -O3 -Wall -isysroot /Library/Developer/CommandLineTools/SDKs/MacOSX.sdk -I/usr/local/include -I/usr/local/opt/openssl@1.1/include -I/usr/local/opt/sqlite/include -I/usr/local/opt/python@3.9/Frameworks/Python.framework/Versions/3.9/include/python3.9 -c dml/anmm.cpp -o build/temp.macosx-11-x86_64-3.9/dml/anmm.o\n",
      "  clang++ -bundle -undefined dynamic_lookup -isysroot /Library/Developer/CommandLineTools/SDKs/MacOSX.sdk build/temp.macosx-11-x86_64-3.9/dml/anmm.o -L/usr/local/lib -L/usr/local/opt/openssl@1.1/lib -L/usr/local/opt/sqlite/lib -o build/lib.macosx-11-x86_64-3.9/dml/anmm.cpython-39-darwin.so\n",
      "  building 'dml.dml_eig' extension\n",
      "  clang -Wno-unused-result -Wsign-compare -Wunreachable-code -fno-common -dynamic -DNDEBUG -g -fwrapv -O3 -Wall -isysroot /Library/Developer/CommandLineTools/SDKs/MacOSX.sdk -I/usr/local/include -I/usr/local/opt/openssl@1.1/include -I/usr/local/opt/sqlite/include -I/usr/local/opt/python@3.9/Frameworks/Python.framework/Versions/3.9/include/python3.9 -c dml/dml_eig.cpp -o build/temp.macosx-11-x86_64-3.9/dml/dml_eig.o\n",
      "  clang++ -bundle -undefined dynamic_lookup -isysroot /Library/Developer/CommandLineTools/SDKs/MacOSX.sdk build/temp.macosx-11-x86_64-3.9/dml/dml_eig.o -L/usr/local/lib -L/usr/local/opt/openssl@1.1/lib -L/usr/local/opt/sqlite/lib -o build/lib.macosx-11-x86_64-3.9/dml/dml_eig.cpython-39-darwin.so\n",
      "  building 'dml.dml_utils' extension\n",
      "  clang -Wno-unused-result -Wsign-compare -Wunreachable-code -fno-common -dynamic -DNDEBUG -g -fwrapv -O3 -Wall -isysroot /Library/Developer/CommandLineTools/SDKs/MacOSX.sdk -I/usr/local/include -I/usr/local/opt/openssl@1.1/include -I/usr/local/opt/sqlite/include -I/usr/local/opt/python@3.9/Frameworks/Python.framework/Versions/3.9/include/python3.9 -c dml/dml_utils.cpp -o build/temp.macosx-11-x86_64-3.9/dml/dml_utils.o\n",
      "  clang++ -bundle -undefined dynamic_lookup -isysroot /Library/Developer/CommandLineTools/SDKs/MacOSX.sdk build/temp.macosx-11-x86_64-3.9/dml/dml_utils.o -L/usr/local/lib -L/usr/local/opt/openssl@1.1/lib -L/usr/local/opt/sqlite/lib -o build/lib.macosx-11-x86_64-3.9/dml/dml_utils.cpython-39-darwin.so\n",
      "  building 'dml.dmlmj' extension\n",
      "  clang -Wno-unused-result -Wsign-compare -Wunreachable-code -fno-common -dynamic -DNDEBUG -g -fwrapv -O3 -Wall -isysroot /Library/Developer/CommandLineTools/SDKs/MacOSX.sdk -I/usr/local/include -I/usr/local/opt/openssl@1.1/include -I/usr/local/opt/sqlite/include -I/usr/local/opt/python@3.9/Frameworks/Python.framework/Versions/3.9/include/python3.9 -c dml/dmlmj.cpp -o build/temp.macosx-11-x86_64-3.9/dml/dmlmj.o\n",
      "  clang++ -bundle -undefined dynamic_lookup -isysroot /Library/Developer/CommandLineTools/SDKs/MacOSX.sdk build/temp.macosx-11-x86_64-3.9/dml/dmlmj.o -L/usr/local/lib -L/usr/local/opt/openssl@1.1/lib -L/usr/local/opt/sqlite/lib -o build/lib.macosx-11-x86_64-3.9/dml/dmlmj.cpython-39-darwin.so\n",
      "  building 'dml.itml' extension\n",
      "  clang -Wno-unused-result -Wsign-compare -Wunreachable-code -fno-common -dynamic -DNDEBUG -g -fwrapv -O3 -Wall -isysroot /Library/Developer/CommandLineTools/SDKs/MacOSX.sdk -I/usr/local/include -I/usr/local/opt/openssl@1.1/include -I/usr/local/opt/sqlite/include -I/usr/local/opt/python@3.9/Frameworks/Python.framework/Versions/3.9/include/python3.9 -c dml/itml.cpp -o build/temp.macosx-11-x86_64-3.9/dml/itml.o\n",
      "  clang++ -bundle -undefined dynamic_lookup -isysroot /Library/Developer/CommandLineTools/SDKs/MacOSX.sdk build/temp.macosx-11-x86_64-3.9/dml/itml.o -L/usr/local/lib -L/usr/local/opt/openssl@1.1/lib -L/usr/local/opt/sqlite/lib -o build/lib.macosx-11-x86_64-3.9/dml/itml.cpython-39-darwin.so\n",
      "  building 'dml.kda' extension\n",
      "  clang -Wno-unused-result -Wsign-compare -Wunreachable-code -fno-common -dynamic -DNDEBUG -g -fwrapv -O3 -Wall -isysroot /Library/Developer/CommandLineTools/SDKs/MacOSX.sdk -I/usr/local/include -I/usr/local/opt/openssl@1.1/include -I/usr/local/opt/sqlite/include -I/usr/local/opt/python@3.9/Frameworks/Python.framework/Versions/3.9/include/python3.9 -c dml/kda.cpp -o build/temp.macosx-11-x86_64-3.9/dml/kda.o\n",
      "  clang++ -bundle -undefined dynamic_lookup -isysroot /Library/Developer/CommandLineTools/SDKs/MacOSX.sdk build/temp.macosx-11-x86_64-3.9/dml/kda.o -L/usr/local/lib -L/usr/local/opt/openssl@1.1/lib -L/usr/local/opt/sqlite/lib -o build/lib.macosx-11-x86_64-3.9/dml/kda.cpython-39-darwin.so\n",
      "  building 'dml.lda' extension\n",
      "  clang -Wno-unused-result -Wsign-compare -Wunreachable-code -fno-common -dynamic -DNDEBUG -g -fwrapv -O3 -Wall -isysroot /Library/Developer/CommandLineTools/SDKs/MacOSX.sdk -I/usr/local/include -I/usr/local/opt/openssl@1.1/include -I/usr/local/opt/sqlite/include -I/usr/local/opt/python@3.9/Frameworks/Python.framework/Versions/3.9/include/python3.9 -c dml/lda.cpp -o build/temp.macosx-11-x86_64-3.9/dml/lda.o\n",
      "  clang++ -bundle -undefined dynamic_lookup -isysroot /Library/Developer/CommandLineTools/SDKs/MacOSX.sdk build/temp.macosx-11-x86_64-3.9/dml/lda.o -L/usr/local/lib -L/usr/local/opt/openssl@1.1/lib -L/usr/local/opt/sqlite/lib -o build/lib.macosx-11-x86_64-3.9/dml/lda.cpython-39-darwin.so\n",
      "  building 'dml.ldml' extension\n",
      "  clang -Wno-unused-result -Wsign-compare -Wunreachable-code -fno-common -dynamic -DNDEBUG -g -fwrapv -O3 -Wall -isysroot /Library/Developer/CommandLineTools/SDKs/MacOSX.sdk -I/usr/local/include -I/usr/local/opt/openssl@1.1/include -I/usr/local/opt/sqlite/include -I/usr/local/opt/python@3.9/Frameworks/Python.framework/Versions/3.9/include/python3.9 -c dml/ldml.cpp -o build/temp.macosx-11-x86_64-3.9/dml/ldml.o\n",
      "  clang++ -bundle -undefined dynamic_lookup -isysroot /Library/Developer/CommandLineTools/SDKs/MacOSX.sdk build/temp.macosx-11-x86_64-3.9/dml/ldml.o -L/usr/local/lib -L/usr/local/opt/openssl@1.1/lib -L/usr/local/opt/sqlite/lib -o build/lib.macosx-11-x86_64-3.9/dml/ldml.cpython-39-darwin.so\n",
      "  building 'dml.llda' extension\n",
      "  clang -Wno-unused-result -Wsign-compare -Wunreachable-code -fno-common -dynamic -DNDEBUG -g -fwrapv -O3 -Wall -isysroot /Library/Developer/CommandLineTools/SDKs/MacOSX.sdk -I/usr/local/include -I/usr/local/opt/openssl@1.1/include -I/usr/local/opt/sqlite/include -I/usr/local/opt/python@3.9/Frameworks/Python.framework/Versions/3.9/include/python3.9 -c dml/llda.cpp -o build/temp.macosx-11-x86_64-3.9/dml/llda.o\n",
      "  clang++ -bundle -undefined dynamic_lookup -isysroot /Library/Developer/CommandLineTools/SDKs/MacOSX.sdk build/temp.macosx-11-x86_64-3.9/dml/llda.o -L/usr/local/lib -L/usr/local/opt/openssl@1.1/lib -L/usr/local/opt/sqlite/lib -o build/lib.macosx-11-x86_64-3.9/dml/llda.cpython-39-darwin.so\n",
      "  building 'dml.lmnn' extension\n",
      "  clang -Wno-unused-result -Wsign-compare -Wunreachable-code -fno-common -dynamic -DNDEBUG -g -fwrapv -O3 -Wall -isysroot /Library/Developer/CommandLineTools/SDKs/MacOSX.sdk -I/usr/local/include -I/usr/local/opt/openssl@1.1/include -I/usr/local/opt/sqlite/include -I/usr/local/opt/python@3.9/Frameworks/Python.framework/Versions/3.9/include/python3.9 -c dml/lmnn.cpp -o build/temp.macosx-11-x86_64-3.9/dml/lmnn.o\n",
      "  clang++ -bundle -undefined dynamic_lookup -isysroot /Library/Developer/CommandLineTools/SDKs/MacOSX.sdk build/temp.macosx-11-x86_64-3.9/dml/lmnn.o -L/usr/local/lib -L/usr/local/opt/openssl@1.1/lib -L/usr/local/opt/sqlite/lib -o build/lib.macosx-11-x86_64-3.9/dml/lmnn.cpython-39-darwin.so\n",
      "  building 'dml.lsi' extension\n",
      "  clang -Wno-unused-result -Wsign-compare -Wunreachable-code -fno-common -dynamic -DNDEBUG -g -fwrapv -O3 -Wall -isysroot /Library/Developer/CommandLineTools/SDKs/MacOSX.sdk -I/usr/local/include -I/usr/local/opt/openssl@1.1/include -I/usr/local/opt/sqlite/include -I/usr/local/opt/python@3.9/Frameworks/Python.framework/Versions/3.9/include/python3.9 -c dml/lsi.cpp -o build/temp.macosx-11-x86_64-3.9/dml/lsi.o\n",
      "  clang++ -bundle -undefined dynamic_lookup -isysroot /Library/Developer/CommandLineTools/SDKs/MacOSX.sdk build/temp.macosx-11-x86_64-3.9/dml/lsi.o -L/usr/local/lib -L/usr/local/opt/openssl@1.1/lib -L/usr/local/opt/sqlite/lib -o build/lib.macosx-11-x86_64-3.9/dml/lsi.cpython-39-darwin.so\n",
      "  building 'dml.mcml' extension\n",
      "  clang -Wno-unused-result -Wsign-compare -Wunreachable-code -fno-common -dynamic -DNDEBUG -g -fwrapv -O3 -Wall -isysroot /Library/Developer/CommandLineTools/SDKs/MacOSX.sdk -I/usr/local/include -I/usr/local/opt/openssl@1.1/include -I/usr/local/opt/sqlite/include -I/usr/local/opt/python@3.9/Frameworks/Python.framework/Versions/3.9/include/python3.9 -c dml/mcml.cpp -o build/temp.macosx-11-x86_64-3.9/dml/mcml.o\n",
      "  clang++ -bundle -undefined dynamic_lookup -isysroot /Library/Developer/CommandLineTools/SDKs/MacOSX.sdk build/temp.macosx-11-x86_64-3.9/dml/mcml.o -L/usr/local/lib -L/usr/local/opt/openssl@1.1/lib -L/usr/local/opt/sqlite/lib -o build/lib.macosx-11-x86_64-3.9/dml/mcml.cpython-39-darwin.so\n",
      "  building 'dml.nca' extension\n",
      "  clang -Wno-unused-result -Wsign-compare -Wunreachable-code -fno-common -dynamic -DNDEBUG -g -fwrapv -O3 -Wall -isysroot /Library/Developer/CommandLineTools/SDKs/MacOSX.sdk -I/usr/local/include -I/usr/local/opt/openssl@1.1/include -I/usr/local/opt/sqlite/include -I/usr/local/opt/python@3.9/Frameworks/Python.framework/Versions/3.9/include/python3.9 -c dml/nca.cpp -o build/temp.macosx-11-x86_64-3.9/dml/nca.o\n",
      "  dml/nca.cpp:648:10: fatal error: 'numpy/arrayobject.h' file not found\n",
      "  #include \"numpy/arrayobject.h\"\n",
      "           ^~~~~~~~~~~~~~~~~~~~~\n",
      "  1 error generated.\n",
      "  error: command '/usr/bin/clang' failed with exit code 1\n",
      "  ----------------------------------------\u001b[0m\n",
      "\u001b[31m  ERROR: Failed building wheel for pyDML\u001b[0m\n",
      "\u001b[?25h  Running setup.py clean for pyDML\n"
     ]
    },
    {
     "name": "stdout",
     "output_type": "stream",
     "text": [
      "Failed to build pyDML\n",
      "Installing collected packages: pyDML\n",
      "    Running setup.py install for pyDML ... \u001b[?25lerror\n",
      "\u001b[31m    ERROR: Command errored out with exit status 1:\n",
      "     command: /usr/local/opt/python@3.9/bin/python3.9 -u -c 'import io, os, sys, setuptools, tokenize; sys.argv[0] = '\"'\"'/private/var/folders/bw/w04m0yj13zvbtnb4m5nw1grh0000gn/T/pip-install-j9eseonc/pydml_3d71df2771924c109fd6b71d45b9f454/setup.py'\"'\"'; __file__='\"'\"'/private/var/folders/bw/w04m0yj13zvbtnb4m5nw1grh0000gn/T/pip-install-j9eseonc/pydml_3d71df2771924c109fd6b71d45b9f454/setup.py'\"'\"';f = getattr(tokenize, '\"'\"'open'\"'\"', open)(__file__) if os.path.exists(__file__) else io.StringIO('\"'\"'from setuptools import setup; setup()'\"'\"');code = f.read().replace('\"'\"'\\r\\n'\"'\"', '\"'\"'\\n'\"'\"');f.close();exec(compile(code, __file__, '\"'\"'exec'\"'\"'))' install --record /private/var/folders/bw/w04m0yj13zvbtnb4m5nw1grh0000gn/T/pip-record-hr2hw5o_/install-record.txt --single-version-externally-managed --compile --install-headers /usr/local/include/python3.9/pyDML\n",
      "         cwd: /private/var/folders/bw/w04m0yj13zvbtnb4m5nw1grh0000gn/T/pip-install-j9eseonc/pydml_3d71df2771924c109fd6b71d45b9f454/\n",
      "    Complete output (60 lines):\n",
      "    Warning: passing language='c++' to cythonize() is deprecated. Instead, put \"# distutils: language=c++\" in your .pyx or .pxd file(s)\n",
      "    running install\n",
      "    running build\n",
      "    running build_py\n",
      "    creating build\n",
      "    creating build/lib.macosx-11-x86_64-3.9\n",
      "    creating build/lib.macosx-11-x86_64-3.9/dml\n",
      "    copying dml/dml_algorithm.py -> build/lib.macosx-11-x86_64-3.9/dml\n",
      "    copying dml/dml_plot.py -> build/lib.macosx-11-x86_64-3.9/dml\n",
      "    copying dml/multidml_knn.py -> build/lib.macosx-11-x86_64-3.9/dml\n",
      "    copying dml/__init__.py -> build/lib.macosx-11-x86_64-3.9/dml\n",
      "    copying dml/tune.py -> build/lib.macosx-11-x86_64-3.9/dml\n",
      "    copying dml/base.py -> build/lib.macosx-11-x86_64-3.9/dml\n",
      "    copying dml/knn.py -> build/lib.macosx-11-x86_64-3.9/dml\n",
      "    running build_ext\n",
      "    building 'dml.anmm' extension\n",
      "    creating build/temp.macosx-11-x86_64-3.9\n",
      "    creating build/temp.macosx-11-x86_64-3.9/dml\n",
      "    clang -Wno-unused-result -Wsign-compare -Wunreachable-code -fno-common -dynamic -DNDEBUG -g -fwrapv -O3 -Wall -isysroot /Library/Developer/CommandLineTools/SDKs/MacOSX.sdk -I/usr/local/include -I/usr/local/opt/openssl@1.1/include -I/usr/local/opt/sqlite/include -I/usr/local/opt/python@3.9/Frameworks/Python.framework/Versions/3.9/include/python3.9 -c dml/anmm.cpp -o build/temp.macosx-11-x86_64-3.9/dml/anmm.o\n",
      "    clang++ -bundle -undefined dynamic_lookup -isysroot /Library/Developer/CommandLineTools/SDKs/MacOSX.sdk build/temp.macosx-11-x86_64-3.9/dml/anmm.o -L/usr/local/lib -L/usr/local/opt/openssl@1.1/lib -L/usr/local/opt/sqlite/lib -o build/lib.macosx-11-x86_64-3.9/dml/anmm.cpython-39-darwin.so\n",
      "    building 'dml.dml_eig' extension\n",
      "    clang -Wno-unused-result -Wsign-compare -Wunreachable-code -fno-common -dynamic -DNDEBUG -g -fwrapv -O3 -Wall -isysroot /Library/Developer/CommandLineTools/SDKs/MacOSX.sdk -I/usr/local/include -I/usr/local/opt/openssl@1.1/include -I/usr/local/opt/sqlite/include -I/usr/local/opt/python@3.9/Frameworks/Python.framework/Versions/3.9/include/python3.9 -c dml/dml_eig.cpp -o build/temp.macosx-11-x86_64-3.9/dml/dml_eig.o\n",
      "    clang++ -bundle -undefined dynamic_lookup -isysroot /Library/Developer/CommandLineTools/SDKs/MacOSX.sdk build/temp.macosx-11-x86_64-3.9/dml/dml_eig.o -L/usr/local/lib -L/usr/local/opt/openssl@1.1/lib -L/usr/local/opt/sqlite/lib -o build/lib.macosx-11-x86_64-3.9/dml/dml_eig.cpython-39-darwin.so\n",
      "    building 'dml.dml_utils' extension\n",
      "    clang -Wno-unused-result -Wsign-compare -Wunreachable-code -fno-common -dynamic -DNDEBUG -g -fwrapv -O3 -Wall -isysroot /Library/Developer/CommandLineTools/SDKs/MacOSX.sdk -I/usr/local/include -I/usr/local/opt/openssl@1.1/include -I/usr/local/opt/sqlite/include -I/usr/local/opt/python@3.9/Frameworks/Python.framework/Versions/3.9/include/python3.9 -c dml/dml_utils.cpp -o build/temp.macosx-11-x86_64-3.9/dml/dml_utils.o\n",
      "    clang++ -bundle -undefined dynamic_lookup -isysroot /Library/Developer/CommandLineTools/SDKs/MacOSX.sdk build/temp.macosx-11-x86_64-3.9/dml/dml_utils.o -L/usr/local/lib -L/usr/local/opt/openssl@1.1/lib -L/usr/local/opt/sqlite/lib -o build/lib.macosx-11-x86_64-3.9/dml/dml_utils.cpython-39-darwin.so\n",
      "    building 'dml.dmlmj' extension\n",
      "    clang -Wno-unused-result -Wsign-compare -Wunreachable-code -fno-common -dynamic -DNDEBUG -g -fwrapv -O3 -Wall -isysroot /Library/Developer/CommandLineTools/SDKs/MacOSX.sdk -I/usr/local/include -I/usr/local/opt/openssl@1.1/include -I/usr/local/opt/sqlite/include -I/usr/local/opt/python@3.9/Frameworks/Python.framework/Versions/3.9/include/python3.9 -c dml/dmlmj.cpp -o build/temp.macosx-11-x86_64-3.9/dml/dmlmj.o\n",
      "    clang++ -bundle -undefined dynamic_lookup -isysroot /Library/Developer/CommandLineTools/SDKs/MacOSX.sdk build/temp.macosx-11-x86_64-3.9/dml/dmlmj.o -L/usr/local/lib -L/usr/local/opt/openssl@1.1/lib -L/usr/local/opt/sqlite/lib -o build/lib.macosx-11-x86_64-3.9/dml/dmlmj.cpython-39-darwin.so\n",
      "    building 'dml.itml' extension\n",
      "    clang -Wno-unused-result -Wsign-compare -Wunreachable-code -fno-common -dynamic -DNDEBUG -g -fwrapv -O3 -Wall -isysroot /Library/Developer/CommandLineTools/SDKs/MacOSX.sdk -I/usr/local/include -I/usr/local/opt/openssl@1.1/include -I/usr/local/opt/sqlite/include -I/usr/local/opt/python@3.9/Frameworks/Python.framework/Versions/3.9/include/python3.9 -c dml/itml.cpp -o build/temp.macosx-11-x86_64-3.9/dml/itml.o\n",
      "    clang++ -bundle -undefined dynamic_lookup -isysroot /Library/Developer/CommandLineTools/SDKs/MacOSX.sdk build/temp.macosx-11-x86_64-3.9/dml/itml.o -L/usr/local/lib -L/usr/local/opt/openssl@1.1/lib -L/usr/local/opt/sqlite/lib -o build/lib.macosx-11-x86_64-3.9/dml/itml.cpython-39-darwin.so\n",
      "    building 'dml.kda' extension\n",
      "    clang -Wno-unused-result -Wsign-compare -Wunreachable-code -fno-common -dynamic -DNDEBUG -g -fwrapv -O3 -Wall -isysroot /Library/Developer/CommandLineTools/SDKs/MacOSX.sdk -I/usr/local/include -I/usr/local/opt/openssl@1.1/include -I/usr/local/opt/sqlite/include -I/usr/local/opt/python@3.9/Frameworks/Python.framework/Versions/3.9/include/python3.9 -c dml/kda.cpp -o build/temp.macosx-11-x86_64-3.9/dml/kda.o\n",
      "    clang++ -bundle -undefined dynamic_lookup -isysroot /Library/Developer/CommandLineTools/SDKs/MacOSX.sdk build/temp.macosx-11-x86_64-3.9/dml/kda.o -L/usr/local/lib -L/usr/local/opt/openssl@1.1/lib -L/usr/local/opt/sqlite/lib -o build/lib.macosx-11-x86_64-3.9/dml/kda.cpython-39-darwin.so\n",
      "    building 'dml.lda' extension\n",
      "    clang -Wno-unused-result -Wsign-compare -Wunreachable-code -fno-common -dynamic -DNDEBUG -g -fwrapv -O3 -Wall -isysroot /Library/Developer/CommandLineTools/SDKs/MacOSX.sdk -I/usr/local/include -I/usr/local/opt/openssl@1.1/include -I/usr/local/opt/sqlite/include -I/usr/local/opt/python@3.9/Frameworks/Python.framework/Versions/3.9/include/python3.9 -c dml/lda.cpp -o build/temp.macosx-11-x86_64-3.9/dml/lda.o\n",
      "    clang++ -bundle -undefined dynamic_lookup -isysroot /Library/Developer/CommandLineTools/SDKs/MacOSX.sdk build/temp.macosx-11-x86_64-3.9/dml/lda.o -L/usr/local/lib -L/usr/local/opt/openssl@1.1/lib -L/usr/local/opt/sqlite/lib -o build/lib.macosx-11-x86_64-3.9/dml/lda.cpython-39-darwin.so\n",
      "    building 'dml.ldml' extension\n",
      "    clang -Wno-unused-result -Wsign-compare -Wunreachable-code -fno-common -dynamic -DNDEBUG -g -fwrapv -O3 -Wall -isysroot /Library/Developer/CommandLineTools/SDKs/MacOSX.sdk -I/usr/local/include -I/usr/local/opt/openssl@1.1/include -I/usr/local/opt/sqlite/include -I/usr/local/opt/python@3.9/Frameworks/Python.framework/Versions/3.9/include/python3.9 -c dml/ldml.cpp -o build/temp.macosx-11-x86_64-3.9/dml/ldml.o\n",
      "    clang++ -bundle -undefined dynamic_lookup -isysroot /Library/Developer/CommandLineTools/SDKs/MacOSX.sdk build/temp.macosx-11-x86_64-3.9/dml/ldml.o -L/usr/local/lib -L/usr/local/opt/openssl@1.1/lib -L/usr/local/opt/sqlite/lib -o build/lib.macosx-11-x86_64-3.9/dml/ldml.cpython-39-darwin.so\n",
      "    building 'dml.llda' extension\n",
      "    clang -Wno-unused-result -Wsign-compare -Wunreachable-code -fno-common -dynamic -DNDEBUG -g -fwrapv -O3 -Wall -isysroot /Library/Developer/CommandLineTools/SDKs/MacOSX.sdk -I/usr/local/include -I/usr/local/opt/openssl@1.1/include -I/usr/local/opt/sqlite/include -I/usr/local/opt/python@3.9/Frameworks/Python.framework/Versions/3.9/include/python3.9 -c dml/llda.cpp -o build/temp.macosx-11-x86_64-3.9/dml/llda.o\n",
      "    clang++ -bundle -undefined dynamic_lookup -isysroot /Library/Developer/CommandLineTools/SDKs/MacOSX.sdk build/temp.macosx-11-x86_64-3.9/dml/llda.o -L/usr/local/lib -L/usr/local/opt/openssl@1.1/lib -L/usr/local/opt/sqlite/lib -o build/lib.macosx-11-x86_64-3.9/dml/llda.cpython-39-darwin.so\n",
      "    building 'dml.lmnn' extension\n",
      "    clang -Wno-unused-result -Wsign-compare -Wunreachable-code -fno-common -dynamic -DNDEBUG -g -fwrapv -O3 -Wall -isysroot /Library/Developer/CommandLineTools/SDKs/MacOSX.sdk -I/usr/local/include -I/usr/local/opt/openssl@1.1/include -I/usr/local/opt/sqlite/include -I/usr/local/opt/python@3.9/Frameworks/Python.framework/Versions/3.9/include/python3.9 -c dml/lmnn.cpp -o build/temp.macosx-11-x86_64-3.9/dml/lmnn.o\n",
      "    clang++ -bundle -undefined dynamic_lookup -isysroot /Library/Developer/CommandLineTools/SDKs/MacOSX.sdk build/temp.macosx-11-x86_64-3.9/dml/lmnn.o -L/usr/local/lib -L/usr/local/opt/openssl@1.1/lib -L/usr/local/opt/sqlite/lib -o build/lib.macosx-11-x86_64-3.9/dml/lmnn.cpython-39-darwin.so\n",
      "    building 'dml.lsi' extension\n",
      "    clang -Wno-unused-result -Wsign-compare -Wunreachable-code -fno-common -dynamic -DNDEBUG -g -fwrapv -O3 -Wall -isysroot /Library/Developer/CommandLineTools/SDKs/MacOSX.sdk -I/usr/local/include -I/usr/local/opt/openssl@1.1/include -I/usr/local/opt/sqlite/include -I/usr/local/opt/python@3.9/Frameworks/Python.framework/Versions/3.9/include/python3.9 -c dml/lsi.cpp -o build/temp.macosx-11-x86_64-3.9/dml/lsi.o\n",
      "    clang++ -bundle -undefined dynamic_lookup -isysroot /Library/Developer/CommandLineTools/SDKs/MacOSX.sdk build/temp.macosx-11-x86_64-3.9/dml/lsi.o -L/usr/local/lib -L/usr/local/opt/openssl@1.1/lib -L/usr/local/opt/sqlite/lib -o build/lib.macosx-11-x86_64-3.9/dml/lsi.cpython-39-darwin.so\n",
      "    building 'dml.mcml' extension\n",
      "    clang -Wno-unused-result -Wsign-compare -Wunreachable-code -fno-common -dynamic -DNDEBUG -g -fwrapv -O3 -Wall -isysroot /Library/Developer/CommandLineTools/SDKs/MacOSX.sdk -I/usr/local/include -I/usr/local/opt/openssl@1.1/include -I/usr/local/opt/sqlite/include -I/usr/local/opt/python@3.9/Frameworks/Python.framework/Versions/3.9/include/python3.9 -c dml/mcml.cpp -o build/temp.macosx-11-x86_64-3.9/dml/mcml.o\n",
      "    clang++ -bundle -undefined dynamic_lookup -isysroot /Library/Developer/CommandLineTools/SDKs/MacOSX.sdk build/temp.macosx-11-x86_64-3.9/dml/mcml.o -L/usr/local/lib -L/usr/local/opt/openssl@1.1/lib -L/usr/local/opt/sqlite/lib -o build/lib.macosx-11-x86_64-3.9/dml/mcml.cpython-39-darwin.so\n",
      "    building 'dml.nca' extension\n",
      "    clang -Wno-unused-result -Wsign-compare -Wunreachable-code -fno-common -dynamic -DNDEBUG -g -fwrapv -O3 -Wall -isysroot /Library/Developer/CommandLineTools/SDKs/MacOSX.sdk -I/usr/local/include -I/usr/local/opt/openssl@1.1/include -I/usr/local/opt/sqlite/include -I/usr/local/opt/python@3.9/Frameworks/Python.framework/Versions/3.9/include/python3.9 -c dml/nca.cpp -o build/temp.macosx-11-x86_64-3.9/dml/nca.o\n",
      "    dml/nca.cpp:648:10: fatal error: 'numpy/arrayobject.h' file not found\n",
      "    #include \"numpy/arrayobject.h\"\n",
      "             ^~~~~~~~~~~~~~~~~~~~~\n",
      "    1 error generated.\n",
      "    error: command '/usr/bin/clang' failed with exit code 1\n",
      "    ----------------------------------------\u001b[0m\n",
      "\u001b[31mERROR: Command errored out with exit status 1: /usr/local/opt/python@3.9/bin/python3.9 -u -c 'import io, os, sys, setuptools, tokenize; sys.argv[0] = '\"'\"'/private/var/folders/bw/w04m0yj13zvbtnb4m5nw1grh0000gn/T/pip-install-j9eseonc/pydml_3d71df2771924c109fd6b71d45b9f454/setup.py'\"'\"'; __file__='\"'\"'/private/var/folders/bw/w04m0yj13zvbtnb4m5nw1grh0000gn/T/pip-install-j9eseonc/pydml_3d71df2771924c109fd6b71d45b9f454/setup.py'\"'\"';f = getattr(tokenize, '\"'\"'open'\"'\"', open)(__file__) if os.path.exists(__file__) else io.StringIO('\"'\"'from setuptools import setup; setup()'\"'\"');code = f.read().replace('\"'\"'\\r\\n'\"'\"', '\"'\"'\\n'\"'\"');f.close();exec(compile(code, __file__, '\"'\"'exec'\"'\"'))' install --record /private/var/folders/bw/w04m0yj13zvbtnb4m5nw1grh0000gn/T/pip-record-hr2hw5o_/install-record.txt --single-version-externally-managed --compile --install-headers /usr/local/include/python3.9/pyDML Check the logs for full command output.\u001b[0m\n"
     ]
    },
    {
     "name": "stdout",
     "output_type": "stream",
     "text": [
      "\u001b[?25h"
     ]
    }
   ],
   "source": [
    "!pip3 install pyDML"
   ]
  },
  {
   "cell_type": "code",
   "execution_count": null,
   "metadata": {},
   "outputs": [],
   "source": []
  },
  {
   "cell_type": "code",
   "execution_count": null,
   "metadata": {},
   "outputs": [],
   "source": []
  },
  {
   "cell_type": "code",
   "execution_count": null,
   "metadata": {},
   "outputs": [],
   "source": []
  },
  {
   "cell_type": "code",
   "execution_count": null,
   "metadata": {},
   "outputs": [],
   "source": []
  }
 ],
 "metadata": {
  "kernelspec": {
   "display_name": "Python 3",
   "language": "python",
   "name": "python3"
  },
  "language_info": {
   "codemirror_mode": {
    "name": "ipython",
    "version": 3
   },
   "file_extension": ".py",
   "mimetype": "text/x-python",
   "name": "python",
   "nbconvert_exporter": "python",
   "pygments_lexer": "ipython3",
   "version": "3.9.2"
  }
 },
 "nbformat": 4,
 "nbformat_minor": 4
}
