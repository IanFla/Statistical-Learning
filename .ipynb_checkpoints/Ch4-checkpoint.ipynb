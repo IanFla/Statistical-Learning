{
 "cells": [
  {
   "cell_type": "code",
   "execution_count": 1,
   "metadata": {},
   "outputs": [],
   "source": [
    "import numpy as np\n",
    "import pandas as pd\n",
    "from sklearn.discriminant_analysis import LinearDiscriminantAnalysis as LDA\n",
    "from sklearn.discriminant_analysis import QuadraticDiscriminantAnalysis as QDA"
   ]
  },
  {
   "cell_type": "code",
   "execution_count": 2,
   "metadata": {},
   "outputs": [
    {
     "name": "stdout",
     "output_type": "stream",
     "text": [
      "(0.6837121212121212, 0.44372294372294374)\n",
      "(0.9886363636363636, 0.47186147186147187)\n"
     ]
    }
   ],
   "source": [
    "X_train = pd.read_csv('./data/vowel.train', index_col=0)\n",
    "X_test = pd.read_csv('./data/vowel.test', index_col=0)\n",
    "y_train = X_train.pop('y')\n",
    "y_test = X_test.pop('y')\n",
    "columns = X_train.columns\n",
    "\n",
    "fit1 = LDA().fit(X_train, y_train)\n",
    "fit2 = QDA().fit(X_train, y_train)\n",
    "result1 = fit1.score(X_train, y_train), fit1.score(X_test, y_test)\n",
    "result2 = fit2.score(X_train, y_train), fit2.score(X_test, y_test)\n",
    "\n",
    "print(result1)\n",
    "print(result2)"
   ]
  },
  {
   "cell_type": "code",
   "execution_count": 3,
   "metadata": {},
   "outputs": [
    {
     "name": "stdout",
     "output_type": "stream",
     "text": [
      "(0.8712121212121212, 0.5151515151515151)\n"
     ]
    }
   ],
   "source": [
    "for col in columns:\n",
    "    X_train['{}^2'.format(col)] = X_train[col] ** 2\n",
    "    X_test['{}^2'.format(col)] = X_test[col] ** 2\n",
    "    \n",
    "fit1 = LDA().fit(X_train, y_train)\n",
    "result1 = fit1.score(X_train, y_train), fit1.score(X_test, y_test)\n",
    "\n",
    "print(result1)"
   ]
  },
  {
   "cell_type": "code",
   "execution_count": 4,
   "metadata": {},
   "outputs": [
    {
     "name": "stdout",
     "output_type": "stream",
     "text": [
      "(0.9772727272727273, 0.5606060606060606)\n"
     ]
    }
   ],
   "source": [
    "for i in range(len(columns)-1):\n",
    "    for j in range(i+1, len(columns)):\n",
    "        col1 = columns[i]\n",
    "        col2 = columns[j]\n",
    "        X_train['{}*{}'.format(col1, col2)] = X_train[col1] * X_train[col2]\n",
    "        X_test['{}*{}'.format(col1, col2)] = X_test[col1] * X_test[col2]\n",
    "        \n",
    "fit1 = LDA().fit(X_train, y_train)\n",
    "result1 = fit1.score(X_train, y_train), fit1.score(X_test, y_test)\n",
    "\n",
    "print(result1)"
   ]
  },
  {
   "cell_type": "code",
   "execution_count": null,
   "metadata": {},
   "outputs": [],
   "source": []
  },
  {
   "cell_type": "code",
   "execution_count": null,
   "metadata": {},
   "outputs": [],
   "source": []
  }
 ],
 "metadata": {
  "kernelspec": {
   "display_name": "Python 3",
   "language": "python",
   "name": "python3"
  },
  "language_info": {
   "codemirror_mode": {
    "name": "ipython",
    "version": 3
   },
   "file_extension": ".py",
   "mimetype": "text/x-python",
   "name": "python",
   "nbconvert_exporter": "python",
   "pygments_lexer": "ipython3",
   "version": "3.9.2"
  }
 },
 "nbformat": 4,
 "nbformat_minor": 4
}
