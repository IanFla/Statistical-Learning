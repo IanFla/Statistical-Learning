{
 "cells": [
  {
   "cell_type": "code",
   "execution_count": 1,
   "metadata": {},
   "outputs": [],
   "source": [
    "import numpy as np\n",
    "import matplotlib.pyplot as plt\n",
    "from sklearn.discriminant_analysis import LinearDiscriminantAnalysis as LDA\n",
    "from sklearn.discriminant_analysis import QuadraticDiscriminantAnalysis as QDA\n",
    "from sklearn.linear_model import LogisticRegression as LR\n",
    "from sklearn.neighbors import KernelDensity\n",
    "from sklearn.model_selection import GridSearchCV\n",
    "\n",
    "import warnings\n",
    "warnings.filterwarnings(\"ignore\")"
   ]
  },
  {
   "cell_type": "markdown",
   "metadata": {},
   "source": [
    "## Ex. 6.12"
   ]
  },
  {
   "cell_type": "code",
   "execution_count": 2,
   "metadata": {},
   "outputs": [
    {
     "name": "stdout",
     "output_type": "stream",
     "text": [
      "(7291, 256) (2007, 256)\n",
      "[1194 1005  731  658  652  556  664  645  542  644]\n",
      "[359 264 198 166 200 160 170 147 166 177]\n"
     ]
    }
   ],
   "source": [
    "def get_data(path):\n",
    "    data=np.loadtxt(path)\n",
    "    X=data[:, 1:]\n",
    "    y=data[:, 0]\n",
    "    return X, y\n",
    "\n",
    "X_train, y_train=get_data('./data/zip.train')\n",
    "X_test, y_test=get_data('./data/zip.test')\n",
    "print(X_train.shape, X_test.shape)\n",
    "print(np.unique(y_train, return_counts=True)[1])\n",
    "print(np.unique(y_test, return_counts=True)[1])"
   ]
  },
  {
   "cell_type": "code",
   "execution_count": 3,
   "metadata": {},
   "outputs": [
    {
     "name": "stdout",
     "output_type": "stream",
     "text": [
      "(0.9380057605266767, 0.885401096163428)\n",
      "(0.920175558908243, 0.8156452416542103)\n",
      "(0.9938280071320806, 0.9108121574489287)\n"
     ]
    }
   ],
   "source": [
    "fit1 = LDA().fit(X_train, y_train)\n",
    "fit2 = QDA().fit(X_train, y_train)\n",
    "fit3 = LR(random_state=0).fit(X_train, y_train)\n",
    "result1 = fit1.score(X_train, y_train), fit1.score(X_test, y_test)\n",
    "result2 = fit2.score(X_train, y_train), fit2.score(X_test, y_test)\n",
    "result3 = fit3.score(X_train, y_train), fit3.score(X_test, y_test)\n",
    "\n",
    "print(result1)\n",
    "print(result2)\n",
    "print(result3)"
   ]
  },
  {
   "cell_type": "code",
   "execution_count": 4,
   "metadata": {},
   "outputs": [
    {
     "name": "stdout",
     "output_type": "stream",
     "text": [
      "(0.9380057605266767, 0.885401096163428)\n",
      "(0.9502125908654505, 0.8923766816143498)\n",
      "(0.9478809491153477, 0.8928749377179871)\n"
     ]
    }
   ],
   "source": [
    "fit0 = LDA(n_components=9).fit(X_train, y_train)\n",
    "X_train_t = fit0.transform(X_train)\n",
    "X_test_t = fit0.transform(X_test)\n",
    "\n",
    "fit1 = LDA().fit(X_train_t, y_train)\n",
    "fit2 = QDA().fit(X_train_t, y_train)\n",
    "fit3 = LR(random_state=0).fit(X_train_t, y_train)\n",
    "result1 = fit1.score(X_train_t, y_train), fit1.score(X_test_t, y_test)\n",
    "result2 = fit2.score(X_train_t, y_train), fit2.score(X_test_t, y_test)\n",
    "result3 = fit3.score(X_train_t, y_train), fit3.score(X_test_t, y_test)\n",
    "\n",
    "print(result1)\n",
    "print(result2)\n",
    "print(result3)"
   ]
  },
  {
   "cell_type": "code",
   "execution_count": 5,
   "metadata": {},
   "outputs": [],
   "source": [
    "def fit(X_train, y_train, space):\n",
    "    nums = []\n",
    "    kdes = []\n",
    "    for i in range(10):\n",
    "        nums.append(np.sum(y_train == i))\n",
    "        X = X_train[y_train == i]\n",
    "        grid = GridSearchCV(KernelDensity(), {'bandwidth': space}).fit(X)\n",
    "        kdes.append(grid.best_estimator_)\n",
    "        print('{}th ({}) best bandwidth: {}'.format(i+1, nums[-1], kdes[-1].bandwidth))\n",
    "    \n",
    "    return nums, kdes"
   ]
  },
  {
   "cell_type": "code",
   "execution_count": null,
   "metadata": {},
   "outputs": [],
   "source": [
    "model = fit(X_train, y_train, np.linspace(0.05, 0.4, 50))"
   ]
  },
  {
   "cell_type": "code",
   "execution_count": null,
   "metadata": {},
   "outputs": [],
   "source": [
    "model = fit(X_train_t, y_train, np.linspace(0.2, 0.9, 50))"
   ]
  },
  {
   "cell_type": "code",
   "execution_count": null,
   "metadata": {},
   "outputs": [],
   "source": []
  },
  {
   "cell_type": "code",
   "execution_count": null,
   "metadata": {},
   "outputs": [],
   "source": []
  }
 ],
 "metadata": {
  "kernelspec": {
   "display_name": "Python 3",
   "language": "python",
   "name": "python3"
  },
  "language_info": {
   "codemirror_mode": {
    "name": "ipython",
    "version": 3
   },
   "file_extension": ".py",
   "mimetype": "text/x-python",
   "name": "python",
   "nbconvert_exporter": "python",
   "pygments_lexer": "ipython3",
   "version": "3.9.2"
  }
 },
 "nbformat": 4,
 "nbformat_minor": 4
}
