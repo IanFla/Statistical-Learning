{
 "cells": [
  {
   "cell_type": "code",
   "execution_count": 1,
   "metadata": {},
   "outputs": [],
   "source": [
    "import numpy as np\n",
    "import matplotlib.pyplot as plt\n",
    "from sklearn.discriminant_analysis import LinearDiscriminantAnalysis as LDA\n",
    "from sklearn.discriminant_analysis import QuadraticDiscriminantAnalysis as QDA\n",
    "from sklearn.linear_model import LogisticRegression as LR\n",
    "\n",
    "import warnings\n",
    "warnings.filterwarnings(\"ignore\")"
   ]
  },
  {
   "cell_type": "code",
   "execution_count": 2,
   "metadata": {},
   "outputs": [
    {
     "name": "stdout",
     "output_type": "stream",
     "text": [
      "(7291, 256) (2007, 256)\n",
      "[1194 1005  731  658  652  556  664  645  542  644]\n",
      "[359 264 198 166 200 160 170 147 166 177]\n"
     ]
    }
   ],
   "source": [
    "def get_data(path):\n",
    "    data=np.loadtxt(path)\n",
    "    X=data[:, 1:]\n",
    "    y=data[:, 0]\n",
    "    return X, y\n",
    "\n",
    "X_train, y_train=get_data('./data/zip.train')\n",
    "X_test, y_test=get_data('./data/zip.test')\n",
    "print(X_train.shape, X_test.shape)\n",
    "print(np.unique(y_train, return_counts=True)[1])\n",
    "print(np.unique(y_test, return_counts=True)[1])"
   ]
  },
  {
   "cell_type": "code",
   "execution_count": 3,
   "metadata": {},
   "outputs": [
    {
     "name": "stdout",
     "output_type": "stream",
     "text": [
      "(0.9380057605266767, 0.885401096163428)\n",
      "(0.920175558908243, 0.8156452416542103)\n",
      "(0.9938280071320806, 0.9108121574489287)\n"
     ]
    }
   ],
   "source": [
    "fit1 = LDA().fit(X_train, y_train)\n",
    "fit2 = QDA().fit(X_train, y_train)\n",
    "fit3 = LR(random_state=0).fit(X_train, y_train)\n",
    "result1 = fit1.score(X_train, y_train), fit1.score(X_test, y_test)\n",
    "result2 = fit2.score(X_train, y_train), fit2.score(X_test, y_test)\n",
    "result3 = fit3.score(X_train, y_train), fit3.score(X_test, y_test)\n",
    "\n",
    "print(result1)\n",
    "print(result2)\n",
    "print(result3)"
   ]
  },
  {
   "cell_type": "code",
   "execution_count": 5,
   "metadata": {},
   "outputs": [
    {
     "name": "stdout",
     "output_type": "stream",
     "text": [
      "正克隆到 'pyDML'...\n",
      "remote: Enumerating objects: 6238, done.\u001b[K\n",
      "remote: Counting objects: 100% (4/4), done.\u001b[K\n",
      "remote: Compressing objects: 100% (4/4), done.\u001b[K\n",
      "remote: Total 6238 (delta 0), reused 1 (delta 0), pack-reused 6234\u001b[K\n",
      "接收对象中: 100% (6238/6238), 215.13 MiB | 13.00 MiB/s, 完成.\n",
      "处理 delta 中: 100% (2611/2611), 完成.\n",
      "正在更新文件: 100% (3076/3076), 完成.\n"
     ]
    }
   ],
   "source": [
    "!cd /Users/ianfla/Documents/packages\n",
    "!git clone https://github.com/jlsuarezdiaz/pyDML.git"
   ]
  },
  {
   "cell_type": "code",
   "execution_count": null,
   "metadata": {},
   "outputs": [],
   "source": [
    "!cd pyDML\n",
    "!pip3 install -r requirements.txt\n",
    "!python3 setup.py install"
   ]
  },
  {
   "cell_type": "code",
   "execution_count": null,
   "metadata": {},
   "outputs": [],
   "source": []
  },
  {
   "cell_type": "code",
   "execution_count": null,
   "metadata": {},
   "outputs": [],
   "source": []
  },
  {
   "cell_type": "code",
   "execution_count": null,
   "metadata": {},
   "outputs": [],
   "source": []
  }
 ],
 "metadata": {
  "kernelspec": {
   "display_name": "Python 3",
   "language": "python",
   "name": "python3"
  },
  "language_info": {
   "codemirror_mode": {
    "name": "ipython",
    "version": 3
   },
   "file_extension": ".py",
   "mimetype": "text/x-python",
   "name": "python",
   "nbconvert_exporter": "python",
   "pygments_lexer": "ipython3",
   "version": "3.9.2"
  }
 },
 "nbformat": 4,
 "nbformat_minor": 4
}
