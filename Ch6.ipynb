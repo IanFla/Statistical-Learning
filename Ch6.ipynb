{
 "cells": [
  {
   "cell_type": "code",
   "execution_count": 1,
   "metadata": {},
   "outputs": [],
   "source": [
    "import numpy as np\n",
    "import pandas as pd\n",
    "import matplotlib.pyplot as plt\n",
    "from sklearn.discriminant_analysis import LinearDiscriminantAnalysis as LDA\n",
    "from sklearn.discriminant_analysis import QuadraticDiscriminantAnalysis as QDA\n",
    "from sklearn.linear_model import LogisticRegression as LR\n",
    "from sklearn.neighbors import KernelDensity\n",
    "from sklearn.model_selection import GridSearchCV\n",
    "\n",
    "import warnings\n",
    "warnings.filterwarnings(\"ignore\")"
   ]
  },
  {
   "cell_type": "markdown",
   "metadata": {},
   "source": [
    "## Ex. 6.12"
   ]
  },
  {
   "cell_type": "code",
   "execution_count": 2,
   "metadata": {},
   "outputs": [
    {
     "name": "stdout",
     "output_type": "stream",
     "text": [
      "(7291, 256) (2007, 256)\n",
      "[1194 1005  731  658  652  556  664  645  542  644]\n",
      "[359 264 198 166 200 160 170 147 166 177]\n"
     ]
    }
   ],
   "source": [
    "def get_data(path):\n",
    "    data=np.loadtxt(path)\n",
    "    X=data[:, 1:]\n",
    "    y=data[:, 0]\n",
    "    return X, y\n",
    "\n",
    "X_train, y_train=get_data('./data/zip.train')\n",
    "X_test, y_test=get_data('./data/zip.test')\n",
    "print(X_train.shape, X_test.shape)\n",
    "print(np.unique(y_train, return_counts=True)[1])\n",
    "print(np.unique(y_test, return_counts=True)[1])"
   ]
  },
  {
   "cell_type": "code",
   "execution_count": 3,
   "metadata": {},
   "outputs": [
    {
     "name": "stdout",
     "output_type": "stream",
     "text": [
      "(0.9380057605266767, 0.885401096163428)\n",
      "(0.920175558908243, 0.8156452416542103)\n",
      "(0.9938280071320806, 0.9108121574489287)\n"
     ]
    }
   ],
   "source": [
    "fit1 = LDA().fit(X_train, y_train)\n",
    "fit2 = QDA().fit(X_train, y_train)\n",
    "fit3 = LR(random_state=0).fit(X_train, y_train)\n",
    "result1 = fit1.score(X_train, y_train), fit1.score(X_test, y_test)\n",
    "result2 = fit2.score(X_train, y_train), fit2.score(X_test, y_test)\n",
    "result3 = fit3.score(X_train, y_train), fit3.score(X_test, y_test)\n",
    "\n",
    "print(result1)\n",
    "print(result2)\n",
    "print(result3)"
   ]
  },
  {
   "cell_type": "code",
   "execution_count": 4,
   "metadata": {},
   "outputs": [
    {
     "name": "stdout",
     "output_type": "stream",
     "text": [
      "(0.9380057605266767, 0.885401096163428)\n",
      "(0.9502125908654505, 0.8923766816143498)\n",
      "(0.9478809491153477, 0.8928749377179871)\n"
     ]
    }
   ],
   "source": [
    "fit0 = LDA(n_components=9).fit(X_train, y_train)\n",
    "X_train_t = fit0.transform(X_train)\n",
    "X_test_t = fit0.transform(X_test)\n",
    "\n",
    "fit1 = LDA().fit(X_train_t, y_train)\n",
    "fit2 = QDA().fit(X_train_t, y_train)\n",
    "fit3 = LR(random_state=0).fit(X_train_t, y_train)\n",
    "result1 = fit1.score(X_train_t, y_train), fit1.score(X_test_t, y_test)\n",
    "result2 = fit2.score(X_train_t, y_train), fit2.score(X_test_t, y_test)\n",
    "result3 = fit3.score(X_train_t, y_train), fit3.score(X_test_t, y_test)\n",
    "\n",
    "print(result1)\n",
    "print(result2)\n",
    "print(result3)"
   ]
  },
  {
   "cell_type": "code",
   "execution_count": 5,
   "metadata": {},
   "outputs": [],
   "source": [
    "def fit(X_train, y_train, space):\n",
    "    nums = []\n",
    "    kdes = []\n",
    "    for i in range(10):\n",
    "        nums.append(np.sum(y_train == i))\n",
    "        X = X_train[y_train == i]\n",
    "        grid = GridSearchCV(KernelDensity(), {'bandwidth': space}).fit(X)\n",
    "        kdes.append(grid.best_estimator_)\n",
    "        print('{}th ({}) best bandwidth: {}'.format(i+1, nums[-1], kdes[-1].bandwidth))\n",
    "    \n",
    "    return np.log(nums), kdes\n",
    "\n",
    "def score(pri, lik, X, y):\n",
    "    Y = []\n",
    "    for i, kde in enumerate(lik):\n",
    "        Y.append(pri[i] + kde.score_samples(X))\n",
    "        \n",
    "    yh = np.argmax(Y, axis=0)\n",
    "    return (y == yh).mean()"
   ]
  },
  {
   "cell_type": "code",
   "execution_count": 6,
   "metadata": {},
   "outputs": [
    {
     "name": "stdout",
     "output_type": "stream",
     "text": [
      "1th (1194) best bandwidth: 0.3\n",
      "2th (1005) best bandwidth: 0.1\n",
      "3th (731) best bandwidth: 0.27142857142857146\n",
      "4th (658) best bandwidth: 0.3142857142857143\n",
      "5th (652) best bandwidth: 0.2571428571428572\n",
      "6th (556) best bandwidth: 0.30714285714285716\n",
      "7th (664) best bandwidth: 0.25\n",
      "8th (645) best bandwidth: 0.1928571428571429\n",
      "9th (542) best bandwidth: 0.34285714285714286\n",
      "10th (644) best bandwidth: 0.2357142857142857\n"
     ]
    }
   ],
   "source": [
    "pri1, lik1 = fit(X_train, y_train, np.linspace(0.05, 0.4, 50))"
   ]
  },
  {
   "cell_type": "code",
   "execution_count": 7,
   "metadata": {},
   "outputs": [
    {
     "name": "stdout",
     "output_type": "stream",
     "text": [
      "1th (1194) best bandwidth: 0.5714285714285714\n",
      "2th (1005) best bandwidth: 0.2285714285714286\n",
      "3th (731) best bandwidth: 0.7285714285714286\n",
      "4th (658) best bandwidth: 0.6428571428571428\n",
      "5th (652) best bandwidth: 0.6428571428571428\n",
      "6th (556) best bandwidth: 0.8\n",
      "7th (664) best bandwidth: 0.6142857142857143\n",
      "8th (645) best bandwidth: 0.5285714285714286\n",
      "9th (542) best bandwidth: 0.7\n",
      "10th (644) best bandwidth: 0.5285714285714286\n"
     ]
    }
   ],
   "source": [
    "pri2, lik2 = fit(X_train_t, y_train, np.linspace(0.2, 0.9, 50))"
   ]
  },
  {
   "cell_type": "code",
   "execution_count": 8,
   "metadata": {},
   "outputs": [
    {
     "name": "stdout",
     "output_type": "stream",
     "text": [
      "(0.6250171444246331, 0.2640757349277529)\n",
      "(0.9982169798381566, 0.8963627304434479)\n",
      "(0.6246056782334385, 0.2640757349277529)\n",
      "(0.9983541352352215, 0.8943697060288989)\n"
     ]
    }
   ],
   "source": [
    "result4 = score(pri1, lik1, X_train, y_train), score(pri1, lik1, X_test, y_test)\n",
    "result5 = score(pri2, lik2, X_train_t, y_train), score(pri2, lik2, X_test_t, y_test)\n",
    "print(result4)\n",
    "print(result5)\n",
    "pri0 = np.zeros(10)\n",
    "result4 = score(pri0, lik1, X_train, y_train), score(pri0, lik1, X_test, y_test)\n",
    "result5 = score(pri0, lik2, X_train_t, y_train), score(pri0, lik2, X_test_t, y_test)\n",
    "print(result4)\n",
    "print(result5)"
   ]
  },
  {
   "cell_type": "code",
   "execution_count": 10,
   "metadata": {},
   "outputs": [
    {
     "name": "stdout",
     "output_type": "stream",
     "text": [
      "(528, 10) (462, 10)\n",
      "[48 48 48 48 48 48 48 48 48 48 48]\n",
      "[42 42 42 42 42 42 42 42 42 42 42]\n",
      "(0.6837121212121212, 0.44372294372294374)\n",
      "(0.9886363636363636, 0.47186147186147187)\n",
      "(0.7253787878787878, 0.461038961038961)\n",
      "1th (48) best bandwidth: 0.6591836734693877\n",
      "2th (48) best bandwidth: 0.44693877551020406\n",
      "3th (48) best bandwidth: 0.34897959183673466\n",
      "4th (48) best bandwidth: 0.3979591836734694\n",
      "5th (48) best bandwidth: 0.4061224489795918\n",
      "6th (48) best bandwidth: 0.43061224489795913\n",
      "7th (48) best bandwidth: 0.4877551020408163\n",
      "8th (48) best bandwidth: 0.3571428571428571\n",
      "9th (48) best bandwidth: 0.4714285714285714\n",
      "10th (48) best bandwidth: 0.5693877551020408\n",
      "(0.8674242424242424, 0.5194805194805194)\n"
     ]
    }
   ],
   "source": [
    "X_train = pd.read_csv('./data/vowel.train', index_col=0)\n",
    "X_test = pd.read_csv('./data/vowel.test', index_col=0)\n",
    "y_train = X_train.pop('y')\n",
    "y_test = X_test.pop('y')\n",
    "X_train = X_train.values\n",
    "y_train = y_train.values - 1\n",
    "X_test = X_test.values\n",
    "y_test = y_test.values - 1\n",
    "\n",
    "print(X_train.shape, X_test.shape)\n",
    "print(np.unique(y_train, return_counts=True)[1])\n",
    "print(np.unique(y_test, return_counts=True)[1])\n",
    "\n",
    "fit1 = LDA().fit(X_train, y_train)\n",
    "fit2 = QDA().fit(X_train, y_train)\n",
    "fit3 = LR(random_state=0).fit(X_train, y_train)\n",
    "result1 = fit1.score(X_train, y_train), fit1.score(X_test, y_test)\n",
    "result2 = fit2.score(X_train, y_train), fit2.score(X_test, y_test)\n",
    "result3 = fit3.score(X_train, y_train), fit3.score(X_test, y_test)\n",
    "\n",
    "print(result1)\n",
    "print(result2)\n",
    "print(result3)\n",
    "\n",
    "pri, lik = fit(X_train, y_train, np.linspace(0.3, 0.7, 50))\n",
    "result4 = score(pri, lik, X_train, y_train), score(pri, lik, X_test, y_test)\n",
    "print(result4)"
   ]
  },
  {
   "cell_type": "code",
   "execution_count": null,
   "metadata": {},
   "outputs": [],
   "source": []
  },
  {
   "cell_type": "code",
   "execution_count": null,
   "metadata": {},
   "outputs": [],
   "source": []
  }
 ],
 "metadata": {
  "kernelspec": {
   "display_name": "Python 3",
   "language": "python",
   "name": "python3"
  },
  "language_info": {
   "codemirror_mode": {
    "name": "ipython",
    "version": 3
   },
   "file_extension": ".py",
   "mimetype": "text/x-python",
   "name": "python",
   "nbconvert_exporter": "python",
   "pygments_lexer": "ipython3",
   "version": "3.9.2"
  }
 },
 "nbformat": 4,
 "nbformat_minor": 4
}
